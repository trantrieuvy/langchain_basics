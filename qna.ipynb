{
 "cells": [
  {
   "cell_type": "code",
   "execution_count": 63,
   "id": "334d83e4",
   "metadata": {},
   "outputs": [],
   "source": [
    "from dotenv import load_dotenv, find_dotenv\n",
    "_ = load_dotenv(find_dotenv())"
   ]
  },
  {
   "cell_type": "code",
   "execution_count": 2,
   "id": "337e1614",
   "metadata": {},
   "outputs": [],
   "source": [
    "# account for deprecation of LLM model\n",
    "import datetime\n",
    "# Get the current date\n",
    "current_date = datetime.datetime.now().date()\n",
    "\n",
    "# Define the date after which the model should be set to \"gpt-3.5-turbo\"\n",
    "target_date = datetime.date(2024, 6, 12)\n",
    "\n",
    "# Set the model variable based on the current date\n",
    "if current_date > target_date:\n",
    "    llm_model = \"gpt-3.5-turbo\"\n",
    "else:\n",
    "    llm_model = \"gpt-3.5-turbo-0301\""
   ]
  },
  {
   "cell_type": "code",
   "execution_count": null,
   "id": "db1476d9",
   "metadata": {},
   "outputs": [],
   "source": [
    "from langchain.chains import RetrievalQA\n",
    "from langchain_openai import ChatOpenAI, OpenAIEmbeddings\n",
    "from langchain.document_loaders import CSVLoader\n",
    "from langchain.vectorstores import DocArrayInMemorySearch\n",
    "from IPython.display import display, Markdown\n",
    "from langchain.indexes import VectorstoreIndexCreator"
   ]
  },
  {
   "cell_type": "code",
   "execution_count": 4,
   "id": "fbb78605",
   "metadata": {},
   "outputs": [
    {
     "data": {
      "text/plain": [
       "[Document(metadata={'source': 'OutdoorClothingCatalog_1000.csv', 'row': 0}, page_content=\": 0\\nname: Women's Campside Oxfords\\ndescription: This ultracomfortable lace-to-toe Oxford boasts a super-soft canvas, thick cushioning, and quality construction for a broken-in feel from the first time you put them on. \\n\\nSize & Fit: Order regular shoe size. For half sizes not offered, order up to next whole size. \\n\\nSpecs: Approx. weight: 1 lb.1 oz. per pair. \\n\\nConstruction: Soft canvas material for a broken-in feel and look. Comfortable EVA innersole with Cleansport NXT® antimicrobial odor control. Vintage hunt, fish and camping motif on innersole. Moderate arch contour of innersole. EVA foam midsole for cushioning and support. Chain-tread-inspired molded rubber outsole with modified chain-tread pattern. Imported. \\n\\nQuestions? Please contact us for any inquiries.\"),\n",
       " Document(metadata={'source': 'OutdoorClothingCatalog_1000.csv', 'row': 1}, page_content=': 1\\nname: Recycled Waterhog Dog Mat, Chevron Weave\\ndescription: Protect your floors from spills and splashing with our ultradurable recycled Waterhog dog mat made right here in the USA. \\n\\nSpecs\\nSmall - Dimensions: 18\" x 28\". \\nMedium - Dimensions: 22.5\" x 34.5\".\\n\\nWhy We Love It\\nMother nature, wet shoes and muddy paws have met their match with our Recycled Waterhog mats. Ruggedly constructed from recycled plastic materials, these ultratough mats help keep dirt and water off your floors and plastic out of landfills, trails and oceans. Now, that\\'s a win-win for everyone.\\n\\nFabric & Care\\nVacuum or hose clean.\\n\\nConstruction\\n24 oz. polyester fabric made from 94% recycled materials.\\nRubber backing.\\n\\nAdditional Features\\nFeatures an -exclusive design.\\nFeatures thick and thin fibers for scraping dirt and absorbing water.\\nDries quickly and resists fading, rotting, mildew and shedding.\\nUse indoors or out.\\nMade in the USA.\\n\\nHave questions? Reach out to our customer service team with any questions you may have.'),\n",
       " Document(metadata={'source': 'OutdoorClothingCatalog_1000.csv', 'row': 2}, page_content=\": 2\\nname: Infant and Toddler Girls' Coastal Chill Swimsuit, Two-Piece\\ndescription: She'll love the bright colors, ruffles and exclusive whimsical prints of this toddler's two-piece swimsuit! Our four-way-stretch and chlorine-resistant fabric keeps its shape and resists snags. The UPF 50+ rated fabric provides the highest rated sun protection possible, blocking 98% of the sun's harmful rays. The crossover no-slip straps and fully lined bottom ensure a secure fit and maximum coverage. Machine wash and line dry for best results. Imported.\"),\n",
       " Document(metadata={'source': 'OutdoorClothingCatalog_1000.csv', 'row': 3}, page_content=\": 3\\nname: Refresh Swimwear, V-Neck Tankini Contrasts\\ndescription: Whether you're going for a swim or heading out on an SUP, this watersport-ready tankini top is designed to move with you and stay comfortable. All while looking great in an eye-catching colorblock style. \\n\\nSize & Fit\\nFitted: Sits close to the body.\\n\\nWhy We Love It\\nNot only does this swimtop feel good to wear, its fabric is good for the earth too. In recycled nylon, with Lycra® spandex for the perfect amount of stretch. \\n\\nFabric & Care\\nThe premium Italian-blend is breathable, quick drying and abrasion resistant. \\nBody in 82% recycled nylon with 18% Lycra® spandex. \\nLined in 90% recycled nylon with 10% Lycra® spandex. \\nUPF 50+ rated – the highest rated sun protection possible. \\nHandwash, line dry.\\n\\nAdditional Features\\nLightweight racerback straps are easy to get on and off, and won't get in your way. \\nFlattering V-neck silhouette. \\nImported.\\n\\nSun Protection That Won't Wear Off\\nOur high-performance fabric provides SPF\"),\n",
       " Document(metadata={'source': 'OutdoorClothingCatalog_1000.csv', 'row': 4}, page_content=\": 4\\nname: EcoFlex 3L Storm Pants\\ndescription: Our new TEK O2 technology makes our four-season waterproof pants even more breathable. It's guaranteed to keep you dry and comfortable – whatever the activity and whatever the weather. Size & Fit: Slightly Fitted through hip and thigh. \\n\\nWhy We Love It: Our state-of-the-art TEK O2 technology offers the most breathability we've ever tested. Great as ski pants, they're ideal for a variety of outdoor activities year-round. Plus, they're loaded with features outdoor enthusiasts appreciate, including weather-blocking gaiters and handy side zips. Air In. Water Out. See how our air-permeable TEK O2 technology keeps you dry and comfortable. \\n\\nFabric & Care: 100% nylon, exclusive of trim. Machine wash and dry. \\n\\nAdditional Features: Three-layer shell delivers waterproof protection. Brand new TEK O2 technology provides enhanced breathability. Interior gaiters keep out rain and snow. Full side zips for easy on/off over boots. Two zippered hand pockets. Thigh pocket. Imported.\\n\\n – Official Supplier to the U.S. Ski Team\\nTHEIR WILL\")]"
      ]
     },
     "execution_count": 4,
     "metadata": {},
     "output_type": "execute_result"
    }
   ],
   "source": [
    "file = 'OutdoorClothingCatalog_1000.csv'\n",
    "loader = CSVLoader(file_path=file)\n",
    "loader.load()[:5]"
   ]
  },
  {
   "cell_type": "code",
   "execution_count": null,
   "id": "3479f688",
   "metadata": {},
   "outputs": [
    {
     "name": "stderr",
     "output_type": "stream",
     "text": [
      "c:\\Users\\trant\\anaconda3\\envs\\fun\\lib\\site-packages\\pydantic\\_migration.py:283: UserWarning: `pydantic.error_wrappers:ValidationError` has been moved to `pydantic:ValidationError`.\n",
      "  warnings.warn(f'`{import_path}` has been moved to `{new_location}`.')\n"
     ]
    }
   ],
   "source": [
    "embeddings = OpenAIEmbeddings()\n",
    "\n",
    "index = VectorstoreIndexCreator(\n",
    "    vectorstore_cls=DocArrayInMemorySearch,\n",
    "    embedding=embeddings\n",
    ").from_loaders([loader])"
   ]
  },
  {
   "cell_type": "code",
   "execution_count": 16,
   "id": "ca8ddf8c",
   "metadata": {},
   "outputs": [],
   "source": [
    "query = \"What are the most comfortable jackets for hiking?\""
   ]
  },
  {
   "cell_type": "code",
   "execution_count": 25,
   "id": "b6ac0d8f",
   "metadata": {},
   "outputs": [],
   "source": [
    "llm_replacement_model = ChatOpenAI(\n",
    "                            temperature=0, \n",
    "                            model='gpt-3.5-turbo')\n",
    "\n",
    "response = index.query(\n",
    "                    query, \n",
    "                    llm = llm_replacement_model)"
   ]
  },
  {
   "cell_type": "code",
   "execution_count": 26,
   "id": "15736197",
   "metadata": {},
   "outputs": [
    {
     "data": {
      "text/plain": [
       "'The most comfortable jackets for hiking would depend on personal preferences and the weather conditions you\\'ll be facing. However, based on the descriptions provided, the \"Mountain Explorer Outdoor Jacket\" and the \"Mountain Peak Reversible Jacket\" seem to offer comfort, freedom of movement, and protection from the elements, making them good options for hiking.'"
      ]
     },
     "execution_count": 26,
     "metadata": {},
     "output_type": "execute_result"
    }
   ],
   "source": [
    "response"
   ]
  },
  {
   "cell_type": "markdown",
   "id": "9807bb91",
   "metadata": {},
   "source": [
    "### Step By Step"
   ]
  },
  {
   "cell_type": "code",
   "execution_count": 29,
   "id": "d4e22be6",
   "metadata": {},
   "outputs": [],
   "source": [
    "from langchain.document_loaders import CSVLoader\n",
    "loader = CSVLoader(file_path=file)\n",
    "docs = loader.load()"
   ]
  },
  {
   "cell_type": "code",
   "execution_count": 30,
   "id": "2fde93c1",
   "metadata": {},
   "outputs": [
    {
     "data": {
      "text/plain": [
       "[Document(metadata={'source': 'OutdoorClothingCatalog_1000.csv', 'row': 0}, page_content=\": 0\\nname: Women's Campside Oxfords\\ndescription: This ultracomfortable lace-to-toe Oxford boasts a super-soft canvas, thick cushioning, and quality construction for a broken-in feel from the first time you put them on. \\n\\nSize & Fit: Order regular shoe size. For half sizes not offered, order up to next whole size. \\n\\nSpecs: Approx. weight: 1 lb.1 oz. per pair. \\n\\nConstruction: Soft canvas material for a broken-in feel and look. Comfortable EVA innersole with Cleansport NXT® antimicrobial odor control. Vintage hunt, fish and camping motif on innersole. Moderate arch contour of innersole. EVA foam midsole for cushioning and support. Chain-tread-inspired molded rubber outsole with modified chain-tread pattern. Imported. \\n\\nQuestions? Please contact us for any inquiries.\"),\n",
       " Document(metadata={'source': 'OutdoorClothingCatalog_1000.csv', 'row': 1}, page_content=': 1\\nname: Recycled Waterhog Dog Mat, Chevron Weave\\ndescription: Protect your floors from spills and splashing with our ultradurable recycled Waterhog dog mat made right here in the USA. \\n\\nSpecs\\nSmall - Dimensions: 18\" x 28\". \\nMedium - Dimensions: 22.5\" x 34.5\".\\n\\nWhy We Love It\\nMother nature, wet shoes and muddy paws have met their match with our Recycled Waterhog mats. Ruggedly constructed from recycled plastic materials, these ultratough mats help keep dirt and water off your floors and plastic out of landfills, trails and oceans. Now, that\\'s a win-win for everyone.\\n\\nFabric & Care\\nVacuum or hose clean.\\n\\nConstruction\\n24 oz. polyester fabric made from 94% recycled materials.\\nRubber backing.\\n\\nAdditional Features\\nFeatures an -exclusive design.\\nFeatures thick and thin fibers for scraping dirt and absorbing water.\\nDries quickly and resists fading, rotting, mildew and shedding.\\nUse indoors or out.\\nMade in the USA.\\n\\nHave questions? Reach out to our customer service team with any questions you may have.'),\n",
       " Document(metadata={'source': 'OutdoorClothingCatalog_1000.csv', 'row': 2}, page_content=\": 2\\nname: Infant and Toddler Girls' Coastal Chill Swimsuit, Two-Piece\\ndescription: She'll love the bright colors, ruffles and exclusive whimsical prints of this toddler's two-piece swimsuit! Our four-way-stretch and chlorine-resistant fabric keeps its shape and resists snags. The UPF 50+ rated fabric provides the highest rated sun protection possible, blocking 98% of the sun's harmful rays. The crossover no-slip straps and fully lined bottom ensure a secure fit and maximum coverage. Machine wash and line dry for best results. Imported.\")]"
      ]
     },
     "execution_count": 30,
     "metadata": {},
     "output_type": "execute_result"
    }
   ],
   "source": [
    "docs[:3]"
   ]
  },
  {
   "cell_type": "code",
   "execution_count": 42,
   "id": "b1fc552f",
   "metadata": {},
   "outputs": [],
   "source": [
    "retriever = db.as_retriever()"
   ]
  },
  {
   "cell_type": "code",
   "execution_count": 32,
   "id": "2c2afccd",
   "metadata": {},
   "outputs": [],
   "source": [
    "from langchain_openai import OpenAIEmbeddings\n",
    "embeddings = OpenAIEmbeddings()"
   ]
  },
  {
   "cell_type": "code",
   "execution_count": null,
   "id": "6cac7282",
   "metadata": {},
   "outputs": [],
   "source": [
    "embed = embeddings.embed_query(\"I am 27 years old\")"
   ]
  },
  {
   "cell_type": "code",
   "execution_count": null,
   "id": "f35ee75e",
   "metadata": {},
   "outputs": [
    {
     "name": "stdout",
     "output_type": "stream",
     "text": [
      "1536\n"
     ]
    }
   ],
   "source": [
    "print(len(embed))"
   ]
  },
  {
   "cell_type": "code",
   "execution_count": 36,
   "id": "796fdc5d",
   "metadata": {},
   "outputs": [
    {
     "name": "stdout",
     "output_type": "stream",
     "text": [
      "[-0.011704073287546635, -0.012828752398490906, 0.005805690307170153, -0.0004569007141981274, -0.0350257083773613]\n"
     ]
    }
   ],
   "source": [
    "print(embed[:5])"
   ]
  },
  {
   "cell_type": "code",
   "execution_count": 37,
   "id": "9695bd82",
   "metadata": {},
   "outputs": [],
   "source": [
    "db = DocArrayInMemorySearch.from_documents(docs, embeddings)"
   ]
  },
  {
   "cell_type": "code",
   "execution_count": 38,
   "id": "988d01c8",
   "metadata": {},
   "outputs": [],
   "source": [
    "query = \"What are the most comfortable jackets for hiking?\""
   ]
  },
  {
   "cell_type": "code",
   "execution_count": 41,
   "id": "ae7a722a",
   "metadata": {},
   "outputs": [
    {
     "data": {
      "text/markdown": [
       ": 82\n",
       "name: Mountain Explorer Outdoor Jacket\n",
       "description: This Men's Upland jacket is designed with improved pockets and tough fabric to withstand the most rugged environments. It features exclusive durable Uplander Cloth nylon, treated with highly water-resistant laminate to resist stains, heavy drizzle, and sharp thorns. Articulated sleeves, bi-swing back and underarm gussets offer a relaxed fit and the freedom of movement needed for fast-flying crossers. Hidden vents on back provide ample airflow, while two lower button-front cargo pockets with shell loops, front-loading game bag with zipper, dual zippered pockets, two upper handwarmer pockets, and interior zippered security pocket provide plenty of storage options. Adjustable button cuffs, corduroy trim and license loop on back complete the look. Machine wash and dry. Imported."
      ],
      "text/plain": [
       "<IPython.core.display.Markdown object>"
      ]
     },
     "metadata": {},
     "output_type": "display_data"
    },
    {
     "name": "stdout",
     "output_type": "stream",
     "text": [
      "Metadata: {'source': 'OutdoorClothingCatalog_1000.csv', 'row': 82}\n",
      "\n",
      "\n"
     ]
    },
    {
     "data": {
      "text/markdown": [
       ": 640\n",
       "name: Mountain Summit Down Jacket\n",
       "description: Our best-value down jacket is packed with ultralight 650-fill DownTek insulation for warmth and protection, even when wet. It offers light activity protection to 15° and moderate activity protection down to -35°. It has a slightly fitted shape that is best with midweight layers and falls at the hip. \n",
       "\n",
       "The down jacket features Bart Tested® DownTek™ insulation that repels moisture and offers exceptional warmth. The shell and lining are made from 100% recycled polyester, ensuring minimal environmental impact. It can be machine washed and dried for easy care. The stand collar features a full zip with snaps on the storm flap. It also features our classic Mt. Katahdin logo, an internal zip pocket, two lower hand snap pockets with security zipper pockets behind them, elastic cuffs with adjustable tabs, and an open hem with two adjustable drawcords to seal out cold weather. Imported. \n",
       "\n",
       "If you have any questions, please don't hesitate to reach out."
      ],
      "text/plain": [
       "<IPython.core.display.Markdown object>"
      ]
     },
     "metadata": {},
     "output_type": "display_data"
    },
    {
     "name": "stdout",
     "output_type": "stream",
     "text": [
      "Metadata: {'source': 'OutdoorClothingCatalog_1000.csv', 'row': 640}\n",
      "\n",
      "\n"
     ]
    },
    {
     "data": {
      "text/markdown": [
       ": 223\n",
       "name: Icy Haven Jacket, Lined\n",
       "description: Our bestselling soft-shell jacket has been upgraded for cool-weather wear with a cozy fleece lining for warmth and protection from the elements. It has all the weather resistance of the original, plus a warm fleece lining to keep you covered through the cooler months. Rugged, moisture wicking and designed to move with you, it's the hiking jacket you'll want on all your adventures. The technical shell fabric resists wind and water, providing versatility in all sorts of weather. The body is lined with a soft, grid fleece that adds warmth and pulls away excess moisture, while the sleeves are lined with taffeta for easy on/off. It also features an adjustable, zip-off hood, cinch waist and two-way zipper for easy customization of the look and fit. The fabric is 95% nylon and 5% spandex with a 100% polyester lining. Machine wash and dry for easy care. Imported. Light activity: to 50°  Moderate activity: to 0°. Size & Fit: Slightly Fitted: Softly shapes the body. Falls at thigh."
      ],
      "text/plain": [
       "<IPython.core.display.Markdown object>"
      ]
     },
     "metadata": {},
     "output_type": "display_data"
    },
    {
     "name": "stdout",
     "output_type": "stream",
     "text": [
      "Metadata: {'source': 'OutdoorClothingCatalog_1000.csv', 'row': 223}\n",
      "\n",
      "\n"
     ]
    },
    {
     "data": {
      "text/markdown": [
       ": 573\n",
       "name: Women's Mountain Peak Reversible Jacket\n",
       "description: This ultimate reversible jacket provides two great options. We combined the cozy comfort of plush fleece and the ultralight warmth of Primaloft® insulation to provide light activity up to 45° and moderate activity up to -5°.\n",
       "\n",
       "Size & Fit: Slightly Fitted, best with lightweight layer, falls at hip.\n",
       "\n",
       "Fabric & Care: Weather-resistant nylon shell on one side, lightweight and exceptionally warm quilted PrimaLoft insulation, plush polyester hi-pile fleece on the other side. Machine wash and dry.\n",
       "\n",
       "Additional Features: Full center front zipper, fleece side has zip pockets, insulated side has open kangaroo pocket, Mt. Katahdin logo, elastic cuffs, adjustable drawcords at hem, and bart boot lace zipper pulls. Imported."
      ],
      "text/plain": [
       "<IPython.core.display.Markdown object>"
      ]
     },
     "metadata": {},
     "output_type": "display_data"
    },
    {
     "name": "stdout",
     "output_type": "stream",
     "text": [
      "Metadata: {'source': 'OutdoorClothingCatalog_1000.csv', 'row': 573}\n",
      "\n",
      "\n"
     ]
    },
    {
     "data": {
      "text/markdown": [
       ": 104\n",
       "name: NatureFlex Packaway Jacket\n",
       "description: This women's lightweight winter jacket is perfect for year-round use. It is designed to keep you toasty warm and can be worn alone or with layers. It also stuffs into its own hand pocket for easy packing. Comfort ratings range from light activity (35°) to moderate activity (-15°). The size and fit are improved for a trimmer body and upper arms, with a center back length of 25¾ in size M. It falls at the hip and is made of ultralight 100% ripstop nylon, with lightweight and compressible 60-gram PrimaLoft® One polyester insulation. The wind- and water-resistant shell and drawcord hem help keep body heat in. Elasticized cuffs provide a snug fit. Machine wash and dry. Imported."
      ],
      "text/plain": [
       "<IPython.core.display.Markdown object>"
      ]
     },
     "metadata": {},
     "output_type": "display_data"
    },
    {
     "name": "stdout",
     "output_type": "stream",
     "text": [
      "Metadata: {'source': 'OutdoorClothingCatalog_1000.csv', 'row': 104}\n",
      "\n",
      "\n"
     ]
    }
   ],
   "source": [
    "docs = db.similarity_search(query, k=5)\n",
    "for doc in docs:\n",
    "    display(Markdown(doc.page_content))\n",
    "    print(\"Metadata:\", doc.metadata)\n",
    "    print(\"\\n\")"
   ]
  },
  {
   "cell_type": "code",
   "execution_count": 43,
   "id": "f5e2942a",
   "metadata": {},
   "outputs": [],
   "source": [
    "qa_stuff = RetrievalQA.from_chain_type(\n",
    "    llm=llm_replacement_model,\n",
    "    chain_type=\"stuff\",\n",
    "    retriever=retriever,\n",
    "    return_source_documents=True,\n",
    ")"
   ]
  },
  {
   "cell_type": "code",
   "execution_count": 68,
   "id": "5dcf3889",
   "metadata": {},
   "outputs": [],
   "source": [
    "query =  \"Please list all your shirts with sun protection \\\n",
    "in markdown and summarize each one.\""
   ]
  },
  {
   "cell_type": "code",
   "execution_count": 69,
   "id": "d7964d0a",
   "metadata": {},
   "outputs": [],
   "source": [
    "response = qa_stuff(query)"
   ]
  },
  {
   "cell_type": "code",
   "execution_count": 70,
   "id": "8953a48b",
   "metadata": {},
   "outputs": [
    {
     "data": {
      "text/markdown": [
       "- **Men's Tropical Plaid Short-Sleeve Shirt**\n",
       "  - Description: Rated UPF 50+ for superior sun protection, made of 100% polyester, wrinkle-resistant, with front and back cape venting, and two front bellows pockets.\n",
       "  - Sun Protection: SPF 50+, blocks 98% of harmful UV rays.\n",
       "\n",
       "- **Men's Plaid Tropic Shirt, Short-Sleeve**\n",
       "  - Description: UPF 50+ sun protection, designed for fishing, made of 52% polyester and 48% nylon, wrinkle-free, with front and back cape venting, and two front bellows pockets.\n",
       "  - Sun Protection: SPF 50+, blocks 98% of harmful UV rays.\n",
       "\n",
       "- **Men's TropicVibe Shirt, Short-Sleeve**\n",
       "  - Description: UPF 50+ sun protection, lightweight, made of 71% nylon and 29% polyester, wrinkle-resistant, with front and back cape venting, and two front bellows pockets.\n",
       "  - Sun Protection: SPF 50+, blocks 98% of harmful UV rays.\n",
       "\n",
       "- **Girls' Ocean Breeze Long-Sleeve Stripe Shirt**\n",
       "  - Description: Long-sleeve sun-protection rash guard with UPF 50+, Nylon Lycra®-elastane blend, quick-drying, fade-resistant, recommended by The Skin Cancer Foundation.\n",
       "  - Sun Protection: SPF 50+, blocks 98% of harmful UV rays, recommended by The Skin Cancer Foundation."
      ],
      "text/plain": [
       "<IPython.core.display.Markdown object>"
      ]
     },
     "metadata": {},
     "output_type": "display_data"
    }
   ],
   "source": [
    "display(Markdown(response['result']))"
   ]
  }
 ],
 "metadata": {
  "kernelspec": {
   "display_name": "fun",
   "language": "python",
   "name": "python3"
  },
  "language_info": {
   "codemirror_mode": {
    "name": "ipython",
    "version": 3
   },
   "file_extension": ".py",
   "mimetype": "text/x-python",
   "name": "python",
   "nbconvert_exporter": "python",
   "pygments_lexer": "ipython3",
   "version": "3.9.19"
  }
 },
 "nbformat": 4,
 "nbformat_minor": 5
}
