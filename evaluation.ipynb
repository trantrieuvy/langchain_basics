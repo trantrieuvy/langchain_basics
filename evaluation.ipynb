{
 "cells": [
  {
   "cell_type": "code",
   "execution_count": 59,
   "id": "f8ab99ad",
   "metadata": {},
   "outputs": [],
   "source": [
    "import os\n",
    "from dotenv import load_dotenv, find_dotenv\n",
    "_ = load_dotenv(find_dotenv())"
   ]
  },
  {
   "cell_type": "code",
   "execution_count": 60,
   "id": "6256dcb8",
   "metadata": {},
   "outputs": [],
   "source": [
    "# account for deprecation of LLM model\n",
    "import datetime\n",
    "# Get the current date\n",
    "current_date = datetime.datetime.now().date()\n",
    "\n",
    "# Define the date after which the model should be set to \"gpt-3.5-turbo\"\n",
    "target_date = datetime.date(2024, 6, 12)\n",
    "\n",
    "# Set the model variable based on the current date\n",
    "if current_date > target_date:\n",
    "    llm_model = \"gpt-3.5-turbo\"\n",
    "else:\n",
    "    llm_model = \"gpt-3.5-turbo-0301\""
   ]
  },
  {
   "cell_type": "markdown",
   "id": "5fbf3713",
   "metadata": {},
   "source": [
    "### Create our QandA application"
   ]
  },
  {
   "cell_type": "code",
   "execution_count": 61,
   "id": "430aa012",
   "metadata": {},
   "outputs": [],
   "source": [
    "from langchain.chains import RetrievalQA\n",
    "from langchain_openai import ChatOpenAI, OpenAIEmbeddings\n",
    "from langchain.document_loaders import CSVLoader\n",
    "from langchain.indexes import VectorstoreIndexCreator\n",
    "from langchain.vectorstores import DocArrayInMemorySearch   "
   ]
  },
  {
   "cell_type": "code",
   "execution_count": 62,
   "id": "b858fad8",
   "metadata": {},
   "outputs": [],
   "source": [
    "file = \"OutdoorClothingCatalog_1000.csv\"\n",
    "loader = CSVLoader(file_path=file)\n",
    "data = loader.load()"
   ]
  },
  {
   "cell_type": "code",
   "execution_count": 63,
   "id": "18ec8f5f",
   "metadata": {},
   "outputs": [],
   "source": [
    "embeddings = OpenAIEmbeddings()"
   ]
  },
  {
   "cell_type": "code",
   "execution_count": 64,
   "id": "9d13d608",
   "metadata": {},
   "outputs": [],
   "source": [
    "index = VectorstoreIndexCreator(\n",
    "    vectorstore_cls=DocArrayInMemorySearch,\n",
    "    embedding=embeddings).from_loaders([loader])"
   ]
  },
  {
   "cell_type": "code",
   "execution_count": 65,
   "id": "928227a2",
   "metadata": {},
   "outputs": [],
   "source": [
    "llm = ChatOpenAI(temperature=0.0, model=llm_model)\n",
    "qa = RetrievalQA.from_chain_type(\n",
    "    llm=llm,\n",
    "    chain_type=\"stuff\",\n",
    "    retriever=index.vectorstore.as_retriever(),\n",
    "    verbose=True,\n",
    "    chain_type_kwargs={\n",
    "        \"document_separator\": \"<<<<<>>>>>\"},\n",
    ")"
   ]
  },
  {
   "cell_type": "markdown",
   "id": "9b2f474b",
   "metadata": {},
   "source": [
    "### Hard-coded examples"
   ]
  },
  {
   "cell_type": "code",
   "execution_count": 66,
   "id": "1fd7f19a",
   "metadata": {},
   "outputs": [
    {
     "data": {
      "text/plain": [
       "Document(metadata={'source': 'OutdoorClothingCatalog_1000.csv', 'row': 112}, page_content=\": 112\\nname: Boys'  Tech Quarter-Zip Pullover\\ndescription: This pullover is perfect for any active lifestyle. It is moisture-wicking and quick-drying, while also being incredibly comfortable and stretchy. The fabric stretches with him, but won't stretch out of shape. It also features a flat-faced fleece fabric that is brushed on the inside so it feels great against his skin. Additionally, it has reflective hits for enhanced visibility in low-light conditions. \\n\\nSize & Fit: Relaxed Fit. \\n\\nFabric & Care: 88% polyester, 12% elastane. Machine wash and dry. \\n\\nImported.\")"
      ]
     },
     "execution_count": 66,
     "metadata": {},
     "output_type": "execute_result"
    }
   ],
   "source": [
    "data[112]"
   ]
  },
  {
   "cell_type": "code",
   "execution_count": 67,
   "id": "66486cf6",
   "metadata": {},
   "outputs": [],
   "source": [
    "examples = [\n",
    "    {\n",
    "        \"query\":\"Is the Tech Quarter-Zip Pullover a good choice for active lifestyle?\",\n",
    "        \"answer\":\"Yes\"\n",
    "    },\n",
    "    {\n",
    "        \"query\":\"What makes the Tech Quarter-Zip Pulliover feel greate against the skin?\",\n",
    "        \"answer\":\"It features a flat-faced fleece fabric that is brushed on the inside.\"\n",
    "    }\n",
    "]"
   ]
  },
  {
   "cell_type": "markdown",
   "id": "ff2698ac",
   "metadata": {},
   "source": [
    "### LLM-Generated exmaples"
   ]
  },
  {
   "cell_type": "code",
   "execution_count": 68,
   "id": "b856a707",
   "metadata": {},
   "outputs": [],
   "source": [
    "from langchain.evaluation.qa import QAGenerateChain"
   ]
  },
  {
   "cell_type": "code",
   "execution_count": 71,
   "id": "9b272f48",
   "metadata": {},
   "outputs": [],
   "source": [
    "example_gen_chain = QAGenerateChain.from_llm(ChatOpenAI(model=llm_model))"
   ]
  },
  {
   "cell_type": "code",
   "execution_count": 74,
   "id": "291c5b44",
   "metadata": {},
   "outputs": [
    {
     "name": "stderr",
     "output_type": "stream",
     "text": [
      "c:\\Users\\trant\\anaconda3\\envs\\fun\\lib\\site-packages\\langchain\\chains\\llm.py:369: UserWarning: The apply_and_parse method is deprecated, instead pass an output parser directly to LLMChain.\n",
      "  warnings.warn(\n"
     ]
    }
   ],
   "source": [
    "new_examples = example_gen_chain.apply_and_parse(\n",
    "    [{\"doc\": t} for t in data[:5]]\n",
    ")\n",
    "\n",
    "new_examples = [{\"query\": ex[\"qa_pairs\"][\"query\"], \"answer\": ex[\"qa_pairs\"][\"answer\"]} for ex in new_examples]"
   ]
  },
  {
   "cell_type": "code",
   "execution_count": 75,
   "id": "d06e0559",
   "metadata": {},
   "outputs": [
    {
     "data": {
      "text/plain": [
       "{'query': \"According to the document, what material are the Women's Campside Oxfords made of for a broken-in feel and look?\",\n",
       " 'answer': \"The Women's Campside Oxfords are made of soft canvas material for a broken-in feel and look.\"}"
      ]
     },
     "execution_count": 75,
     "metadata": {},
     "output_type": "execute_result"
    }
   ],
   "source": [
    "new_examples[0]"
   ]
  },
  {
   "cell_type": "code",
   "execution_count": 76,
   "id": "6ebc91a8",
   "metadata": {},
   "outputs": [
    {
     "data": {
      "text/plain": [
       "Document(metadata={'source': 'OutdoorClothingCatalog_1000.csv', 'row': 0}, page_content=\": 0\\nname: Women's Campside Oxfords\\ndescription: This ultracomfortable lace-to-toe Oxford boasts a super-soft canvas, thick cushioning, and quality construction for a broken-in feel from the first time you put them on. \\n\\nSize & Fit: Order regular shoe size. For half sizes not offered, order up to next whole size. \\n\\nSpecs: Approx. weight: 1 lb.1 oz. per pair. \\n\\nConstruction: Soft canvas material for a broken-in feel and look. Comfortable EVA innersole with Cleansport NXT® antimicrobial odor control. Vintage hunt, fish and camping motif on innersole. Moderate arch contour of innersole. EVA foam midsole for cushioning and support. Chain-tread-inspired molded rubber outsole with modified chain-tread pattern. Imported. \\n\\nQuestions? Please contact us for any inquiries.\")"
      ]
     },
     "execution_count": 76,
     "metadata": {},
     "output_type": "execute_result"
    }
   ],
   "source": [
    "data[0]"
   ]
  },
  {
   "cell_type": "markdown",
   "id": "468f1c0a",
   "metadata": {},
   "source": [
    "### Combine examples"
   ]
  },
  {
   "cell_type": "code",
   "execution_count": 77,
   "id": "5722c2ec",
   "metadata": {},
   "outputs": [
    {
     "name": "stdout",
     "output_type": "stream",
     "text": [
      "7\n"
     ]
    },
    {
     "data": {
      "text/plain": [
       "[{'query': 'Is the Tech Quarter-Zip Pullover a good choice for active lifestyle?',\n",
       "  'answer': 'Yes'},\n",
       " {'query': 'What makes the Tech Quarter-Zip Pulliover feel greate against the skin?',\n",
       "  'answer': 'It features a flat-faced fleece fabric that is brushed on the inside.'},\n",
       " {'query': \"According to the document, what material are the Women's Campside Oxfords made of for a broken-in feel and look?\",\n",
       "  'answer': \"The Women's Campside Oxfords are made of soft canvas material for a broken-in feel and look.\"},\n",
       " {'query': 'What are the dimensions of the small and medium sizes for the Recycled Waterhog Dog Mat, Chevron Weave?',\n",
       "  'answer': 'The dimensions of the small size is 18\" x 28\" and the dimensions of the medium size is 22.5\" x 34.5\".'},\n",
       " {'query': \"What are some key features of the Infant and Toddler Girls' Coastal Chill Swimsuit, Two-Piece as described in the document?\",\n",
       "  'answer': 'Some key features of the swimsuit include bright colors, ruffles, exclusive whimsical prints, four-way-stretch and chlorine-resistant fabric, UPF 50+ rated fabric for highest sun protection, crossover no-slip straps, fully lined bottom, secure fit, and machine wash and line dry for best results.'},\n",
       " {'query': 'What are the main fabric components of the Refresh Swimwear, V-Neck Tankini Contrasts?',\n",
       "  'answer': 'The main fabric components of the Refresh Swimwear, V-Neck Tankini Contrasts are 82% recycled nylon with 18% Lycra® spandex for the body, and 90% recycled nylon with 10% Lycra® spandex for the lining.'},\n",
       " {'query': 'What type of technology is used in the EcoFlex 3L Storm Pants to enhance breathability?',\n",
       "  'answer': 'The EcoFlex 3L Storm Pants utilize TEK O2 technology to provide enhanced breathability.'}]"
      ]
     },
     "execution_count": 77,
     "metadata": {},
     "output_type": "execute_result"
    }
   ],
   "source": [
    "examples += new_examples\n",
    "print(len(examples))\n",
    "examples"
   ]
  },
  {
   "cell_type": "code",
   "execution_count": 78,
   "id": "a8b510c7",
   "metadata": {},
   "outputs": [
    {
     "name": "stdout",
     "output_type": "stream",
     "text": [
      "\n",
      "\n",
      "\u001b[1m> Entering new RetrievalQA chain...\u001b[0m\n",
      "\n",
      "\u001b[1m> Finished chain.\u001b[0m\n"
     ]
    },
    {
     "data": {
      "text/plain": [
       "'Yes, the Tech Quarter-Zip Pullover is a good choice for an active lifestyle. It is moisture-wicking, quick-drying, comfortable, and stretchy, making it suitable for various activities. Additionally, it has reflective hits for enhanced visibility in low-light conditions.'"
      ]
     },
     "execution_count": 78,
     "metadata": {},
     "output_type": "execute_result"
    }
   ],
   "source": [
    "qa.run(examples[0][\"query\"])"
   ]
  },
  {
   "cell_type": "markdown",
   "id": "77ed362f",
   "metadata": {},
   "source": [
    "### Manual Evaluation"
   ]
  },
  {
   "cell_type": "code",
   "execution_count": 79,
   "id": "7280b513",
   "metadata": {},
   "outputs": [],
   "source": [
    "import langchain\n",
    "langchain.debug = True"
   ]
  },
  {
   "cell_type": "code",
   "execution_count": 80,
   "id": "a64a9151",
   "metadata": {},
   "outputs": [
    {
     "name": "stdout",
     "output_type": "stream",
     "text": [
      "\u001b[32;1m\u001b[1;3m[chain/start]\u001b[0m \u001b[1m[chain:RetrievalQA] Entering Chain run with input:\n",
      "\u001b[0m{\n",
      "  \"query\": \"Is the Tech Quarter-Zip Pullover a good choice for active lifestyle?\"\n",
      "}\n",
      "\u001b[32;1m\u001b[1;3m[chain/start]\u001b[0m \u001b[1m[chain:RetrievalQA > chain:StuffDocumentsChain] Entering Chain run with input:\n",
      "\u001b[0m[inputs]\n",
      "\u001b[32;1m\u001b[1;3m[chain/start]\u001b[0m \u001b[1m[chain:RetrievalQA > chain:StuffDocumentsChain > chain:LLMChain] Entering Chain run with input:\n",
      "\u001b[0m{\n",
      "  \"question\": \"Is the Tech Quarter-Zip Pullover a good choice for active lifestyle?\",\n",
      "  \"context\": \": 112\\nname: Boys'  Tech Quarter-Zip Pullover\\ndescription: This pullover is perfect for any active lifestyle. It is moisture-wicking and quick-drying, while also being incredibly comfortable and stretchy. The fabric stretches with him, but won't stretch out of shape. It also features a flat-faced fleece fabric that is brushed on the inside so it feels great against his skin. Additionally, it has reflective hits for enhanced visibility in low-light conditions. \\n\\nSize & Fit: Relaxed Fit. \\n\\nFabric & Care: 88% polyester, 12% elastane. Machine wash and dry. \\n\\nImported.<<<<<>>>>>: 854\\nname: Urban Striped Quarter-Zip Terry Pullover\\ndescription: Our all-cotton french terry quarter-zip is designed with appealing texture, a versatile season-spanning weight and nautical-inspired stripes. Size & Fit: Slim Fit - cut slim through the chest, sleeve and waist. Why We Love It: We've turned the typical sweatshirt inside out. Our pullover features the reverse side of our french terry fabric on the outside for outstanding texture, while the inside is nice and smooth. It has the undeniable comfort of cotton, with a neater look than most sweatshirts and a modern, slimmer fit. Our striped pullover is the perfect weekend layer, especially between seasons - and we love the side pockets! Fabric & Care: 100% cotton in a French terry knit. Machine wash and dry. Additional Features: Sturdy metal zipper adds to its rugged appeal. On-seam side pockets. Ribbed cuffs keep their shape. Side vents at hem. Imported.<<<<<>>>>>: 427\\nname: Athletic Luxe Fleece Pullover, Quarter-Zip\\ndescription: Made from recycled fleece, this quarter-zip fleece jacket is softer than ever. Packed with performance features, it wicks moisture, dries quickly and is wonderfully breathable. Brushed on both sides for comfort you can count on all day long.\\n\\nSize & Fit\\nSlightly Fitted: Softly shapes the body.\\nFalls at hip.\\n\\nWhy We Love It\\nAn amazing fleece at an amazing price. Made completely from plastic bottles (approximately 15 17 oz. bottles for each jacket), it's unbelievably soft and truly gentle to our planet. Perfect whether you're walking (even jogging), heading out on everyday trips or relaxing at home.\\n\\nFabric & Care\\n100% recycled polyester fleece.\\nMachine wash and dry.\\n\\nAdditional Features\\nIconic Katahdin logo at bottom left.\\nImported.<<<<<>>>>>: 16\\nname: Camo Trekker Midweight Quarter-Zip Pullover Hoodie\\ndescription: This camo quarter-zip hoodie is an extremely versatile mid layer that's great for all hunting seasons. It's made from warm, breathable fleece and features an innovative lightweight hood with a built-in face mask. \\n\\nFabric & Care: 100% polyester. Machine wash and dry.\\n\\nAdditional Features: An excellent layering piece for cold weather. Wind-resistant hard-shell fleece is quiet and resists water, debris and snags. Super-soft fleece interior is warm and can be worn over layers or next-to-skin. Unique lightweight hood has a built in face mask for extra warmth and total concealment. Built-in articulation allows excellent range of motion. Quarter-length zipper allows for easy on/off and ventilation. Single vertical upper chest storage pocket. Thumbholes in cuff allow extra coverage; they stay closed when not in use. Flat seams won't chafe or catch on under layers. Imported.\"\n",
      "}\n",
      "\u001b[32;1m\u001b[1;3m[llm/start]\u001b[0m \u001b[1m[chain:RetrievalQA > chain:StuffDocumentsChain > chain:LLMChain > llm:ChatOpenAI] Entering LLM run with input:\n",
      "\u001b[0m{\n",
      "  \"prompts\": [\n",
      "    \"System: Use the following pieces of context to answer the user's question. \\nIf you don't know the answer, just say that you don't know, don't try to make up an answer.\\n----------------\\n: 112\\nname: Boys'  Tech Quarter-Zip Pullover\\ndescription: This pullover is perfect for any active lifestyle. It is moisture-wicking and quick-drying, while also being incredibly comfortable and stretchy. The fabric stretches with him, but won't stretch out of shape. It also features a flat-faced fleece fabric that is brushed on the inside so it feels great against his skin. Additionally, it has reflective hits for enhanced visibility in low-light conditions. \\n\\nSize & Fit: Relaxed Fit. \\n\\nFabric & Care: 88% polyester, 12% elastane. Machine wash and dry. \\n\\nImported.<<<<<>>>>>: 854\\nname: Urban Striped Quarter-Zip Terry Pullover\\ndescription: Our all-cotton french terry quarter-zip is designed with appealing texture, a versatile season-spanning weight and nautical-inspired stripes. Size & Fit: Slim Fit - cut slim through the chest, sleeve and waist. Why We Love It: We've turned the typical sweatshirt inside out. Our pullover features the reverse side of our french terry fabric on the outside for outstanding texture, while the inside is nice and smooth. It has the undeniable comfort of cotton, with a neater look than most sweatshirts and a modern, slimmer fit. Our striped pullover is the perfect weekend layer, especially between seasons - and we love the side pockets! Fabric & Care: 100% cotton in a French terry knit. Machine wash and dry. Additional Features: Sturdy metal zipper adds to its rugged appeal. On-seam side pockets. Ribbed cuffs keep their shape. Side vents at hem. Imported.<<<<<>>>>>: 427\\nname: Athletic Luxe Fleece Pullover, Quarter-Zip\\ndescription: Made from recycled fleece, this quarter-zip fleece jacket is softer than ever. Packed with performance features, it wicks moisture, dries quickly and is wonderfully breathable. Brushed on both sides for comfort you can count on all day long.\\n\\nSize & Fit\\nSlightly Fitted: Softly shapes the body.\\nFalls at hip.\\n\\nWhy We Love It\\nAn amazing fleece at an amazing price. Made completely from plastic bottles (approximately 15 17 oz. bottles for each jacket), it's unbelievably soft and truly gentle to our planet. Perfect whether you're walking (even jogging), heading out on everyday trips or relaxing at home.\\n\\nFabric & Care\\n100% recycled polyester fleece.\\nMachine wash and dry.\\n\\nAdditional Features\\nIconic Katahdin logo at bottom left.\\nImported.<<<<<>>>>>: 16\\nname: Camo Trekker Midweight Quarter-Zip Pullover Hoodie\\ndescription: This camo quarter-zip hoodie is an extremely versatile mid layer that's great for all hunting seasons. It's made from warm, breathable fleece and features an innovative lightweight hood with a built-in face mask. \\n\\nFabric & Care: 100% polyester. Machine wash and dry.\\n\\nAdditional Features: An excellent layering piece for cold weather. Wind-resistant hard-shell fleece is quiet and resists water, debris and snags. Super-soft fleece interior is warm and can be worn over layers or next-to-skin. Unique lightweight hood has a built in face mask for extra warmth and total concealment. Built-in articulation allows excellent range of motion. Quarter-length zipper allows for easy on/off and ventilation. Single vertical upper chest storage pocket. Thumbholes in cuff allow extra coverage; they stay closed when not in use. Flat seams won't chafe or catch on under layers. Imported.\\nHuman: Is the Tech Quarter-Zip Pullover a good choice for active lifestyle?\"\n",
      "  ]\n",
      "}\n",
      "\u001b[36;1m\u001b[1;3m[llm/end]\u001b[0m \u001b[1m[chain:RetrievalQA > chain:StuffDocumentsChain > chain:LLMChain > llm:ChatOpenAI] [1.56s] Exiting LLM run with output:\n",
      "\u001b[0m{\n",
      "  \"generations\": [\n",
      "    [\n",
      "      {\n",
      "        \"text\": \"Yes, the Tech Quarter-Zip Pullover is a good choice for an active lifestyle. It is moisture-wicking, quick-drying, comfortable, and stretchy, making it suitable for various activities. Additionally, it has reflective hits for enhanced visibility in low-light conditions.\",\n",
      "        \"generation_info\": {\n",
      "          \"finish_reason\": \"stop\",\n",
      "          \"logprobs\": null\n",
      "        },\n",
      "        \"type\": \"ChatGeneration\",\n",
      "        \"message\": {\n",
      "          \"lc\": 1,\n",
      "          \"type\": \"constructor\",\n",
      "          \"id\": [\n",
      "            \"langchain\",\n",
      "            \"schema\",\n",
      "            \"messages\",\n",
      "            \"AIMessage\"\n",
      "          ],\n",
      "          \"kwargs\": {\n",
      "            \"content\": \"Yes, the Tech Quarter-Zip Pullover is a good choice for an active lifestyle. It is moisture-wicking, quick-drying, comfortable, and stretchy, making it suitable for various activities. Additionally, it has reflective hits for enhanced visibility in low-light conditions.\",\n",
      "            \"additional_kwargs\": {\n",
      "              \"refusal\": null\n",
      "            },\n",
      "            \"response_metadata\": {\n",
      "              \"token_usage\": {\n",
      "                \"completion_tokens\": 56,\n",
      "                \"prompt_tokens\": 799,\n",
      "                \"total_tokens\": 855,\n",
      "                \"completion_tokens_details\": {\n",
      "                  \"accepted_prediction_tokens\": 0,\n",
      "                  \"audio_tokens\": 0,\n",
      "                  \"reasoning_tokens\": 0,\n",
      "                  \"rejected_prediction_tokens\": 0\n",
      "                },\n",
      "                \"prompt_tokens_details\": {\n",
      "                  \"audio_tokens\": 0,\n",
      "                  \"cached_tokens\": 0\n",
      "                }\n",
      "              },\n",
      "              \"model_name\": \"gpt-3.5-turbo-0125\",\n",
      "              \"system_fingerprint\": null,\n",
      "              \"id\": \"chatcmpl-BNgizaw3dKBQ3lD0tDmymrG1sEPVj\",\n",
      "              \"finish_reason\": \"stop\",\n",
      "              \"logprobs\": null\n",
      "            },\n",
      "            \"type\": \"ai\",\n",
      "            \"id\": \"run-1a3c8c8a-5069-4dd4-9c07-dffcecf2e409-0\",\n",
      "            \"usage_metadata\": {\n",
      "              \"input_tokens\": 799,\n",
      "              \"output_tokens\": 56,\n",
      "              \"total_tokens\": 855,\n",
      "              \"input_token_details\": {\n",
      "                \"audio\": 0,\n",
      "                \"cache_read\": 0\n",
      "              },\n",
      "              \"output_token_details\": {\n",
      "                \"audio\": 0,\n",
      "                \"reasoning\": 0\n",
      "              }\n",
      "            },\n",
      "            \"tool_calls\": [],\n",
      "            \"invalid_tool_calls\": []\n",
      "          }\n",
      "        }\n",
      "      }\n",
      "    ]\n",
      "  ],\n",
      "  \"llm_output\": {\n",
      "    \"token_usage\": {\n",
      "      \"completion_tokens\": 56,\n",
      "      \"prompt_tokens\": 799,\n",
      "      \"total_tokens\": 855,\n",
      "      \"completion_tokens_details\": {\n",
      "        \"accepted_prediction_tokens\": 0,\n",
      "        \"audio_tokens\": 0,\n",
      "        \"reasoning_tokens\": 0,\n",
      "        \"rejected_prediction_tokens\": 0\n",
      "      },\n",
      "      \"prompt_tokens_details\": {\n",
      "        \"audio_tokens\": 0,\n",
      "        \"cached_tokens\": 0\n",
      "      }\n",
      "    },\n",
      "    \"model_name\": \"gpt-3.5-turbo-0125\",\n",
      "    \"system_fingerprint\": null,\n",
      "    \"id\": \"chatcmpl-BNgizaw3dKBQ3lD0tDmymrG1sEPVj\"\n",
      "  },\n",
      "  \"run\": null,\n",
      "  \"type\": \"LLMResult\"\n",
      "}\n",
      "\u001b[36;1m\u001b[1;3m[chain/end]\u001b[0m \u001b[1m[chain:RetrievalQA > chain:StuffDocumentsChain > chain:LLMChain] [1.56s] Exiting Chain run with output:\n",
      "\u001b[0m{\n",
      "  \"text\": \"Yes, the Tech Quarter-Zip Pullover is a good choice for an active lifestyle. It is moisture-wicking, quick-drying, comfortable, and stretchy, making it suitable for various activities. Additionally, it has reflective hits for enhanced visibility in low-light conditions.\"\n",
      "}\n",
      "\u001b[36;1m\u001b[1;3m[chain/end]\u001b[0m \u001b[1m[chain:RetrievalQA > chain:StuffDocumentsChain] [1.56s] Exiting Chain run with output:\n",
      "\u001b[0m{\n",
      "  \"output_text\": \"Yes, the Tech Quarter-Zip Pullover is a good choice for an active lifestyle. It is moisture-wicking, quick-drying, comfortable, and stretchy, making it suitable for various activities. Additionally, it has reflective hits for enhanced visibility in low-light conditions.\"\n",
      "}\n",
      "\u001b[36;1m\u001b[1;3m[chain/end]\u001b[0m \u001b[1m[chain:RetrievalQA] [2.22s] Exiting Chain run with output:\n",
      "\u001b[0m{\n",
      "  \"result\": \"Yes, the Tech Quarter-Zip Pullover is a good choice for an active lifestyle. It is moisture-wicking, quick-drying, comfortable, and stretchy, making it suitable for various activities. Additionally, it has reflective hits for enhanced visibility in low-light conditions.\"\n",
      "}\n"
     ]
    },
    {
     "data": {
      "text/plain": [
       "'Yes, the Tech Quarter-Zip Pullover is a good choice for an active lifestyle. It is moisture-wicking, quick-drying, comfortable, and stretchy, making it suitable for various activities. Additionally, it has reflective hits for enhanced visibility in low-light conditions.'"
      ]
     },
     "execution_count": 80,
     "metadata": {},
     "output_type": "execute_result"
    }
   ],
   "source": [
    "qa.run(examples[0][\"query\"])"
   ]
  },
  {
   "cell_type": "code",
   "execution_count": 81,
   "id": "54c1ba4a",
   "metadata": {},
   "outputs": [],
   "source": [
    "langchain.debug = False"
   ]
  },
  {
   "cell_type": "markdown",
   "id": "932c2850",
   "metadata": {},
   "source": [
    "### LLM assisted evaluation"
   ]
  },
  {
   "cell_type": "code",
   "execution_count": 88,
   "id": "39184ae6",
   "metadata": {},
   "outputs": [
    {
     "name": "stdout",
     "output_type": "stream",
     "text": [
      "\n",
      "\n",
      "\u001b[1m> Entering new RetrievalQA chain...\u001b[0m\n",
      "\n",
      "\u001b[1m> Finished chain.\u001b[0m\n",
      "\n",
      "\n",
      "\u001b[1m> Entering new RetrievalQA chain...\u001b[0m\n",
      "\n",
      "\u001b[1m> Finished chain.\u001b[0m\n",
      "\n",
      "\n",
      "\u001b[1m> Entering new RetrievalQA chain...\u001b[0m\n",
      "\n",
      "\u001b[1m> Finished chain.\u001b[0m\n",
      "\n",
      "\n",
      "\u001b[1m> Entering new RetrievalQA chain...\u001b[0m\n",
      "\n",
      "\u001b[1m> Finished chain.\u001b[0m\n",
      "\n",
      "\n",
      "\u001b[1m> Entering new RetrievalQA chain...\u001b[0m\n",
      "\n",
      "\u001b[1m> Finished chain.\u001b[0m\n",
      "\n",
      "\n",
      "\u001b[1m> Entering new RetrievalQA chain...\u001b[0m\n",
      "\n",
      "\u001b[1m> Finished chain.\u001b[0m\n",
      "\n",
      "\n",
      "\u001b[1m> Entering new RetrievalQA chain...\u001b[0m\n",
      "\n",
      "\u001b[1m> Finished chain.\u001b[0m\n"
     ]
    }
   ],
   "source": [
    "predictions = qa.apply(examples)"
   ]
  },
  {
   "cell_type": "code",
   "execution_count": 89,
   "id": "2f0fbf6a",
   "metadata": {},
   "outputs": [
    {
     "data": {
      "text/plain": [
       "[{'query': 'Is the Tech Quarter-Zip Pullover a good choice for active lifestyle?',\n",
       "  'answer': 'Yes',\n",
       "  'result': 'Yes, the Tech Quarter-Zip Pullover is a good choice for an active lifestyle. It is moisture-wicking, quick-drying, comfortable, and stretchy, making it suitable for various activities. Additionally, it has reflective hits for enhanced visibility in low-light conditions.'},\n",
       " {'query': 'What makes the Tech Quarter-Zip Pulliover feel greate against the skin?',\n",
       "  'answer': 'It features a flat-faced fleece fabric that is brushed on the inside.',\n",
       "  'result': 'The Tech Quarter-Zip Pullover feels great against the skin because it features a flat-faced fleece fabric that is brushed on the inside.'},\n",
       " {'query': \"According to the document, what material are the Women's Campside Oxfords made of for a broken-in feel and look?\",\n",
       "  'answer': \"The Women's Campside Oxfords are made of soft canvas material for a broken-in feel and look.\",\n",
       "  'result': \"The Women's Campside Oxfords are made of soft canvas material for a broken-in feel and look.\"},\n",
       " {'query': 'What are the dimensions of the small and medium sizes for the Recycled Waterhog Dog Mat, Chevron Weave?',\n",
       "  'answer': 'The dimensions of the small size is 18\" x 28\" and the dimensions of the medium size is 22.5\" x 34.5\".',\n",
       "  'result': 'The dimensions for the small size of the Recycled Waterhog Dog Mat, Chevron Weave are 18\" x 28\", and for the medium size, they are 22.5\" x 34.5\".'},\n",
       " {'query': \"What are some key features of the Infant and Toddler Girls' Coastal Chill Swimsuit, Two-Piece as described in the document?\",\n",
       "  'answer': 'Some key features of the swimsuit include bright colors, ruffles, exclusive whimsical prints, four-way-stretch and chlorine-resistant fabric, UPF 50+ rated fabric for highest sun protection, crossover no-slip straps, fully lined bottom, secure fit, and machine wash and line dry for best results.',\n",
       "  'result': \"Some key features of the Infant and Toddler Girls' Coastal Chill Swimsuit, Two-Piece are:\\n- Bright colors, ruffles, and exclusive whimsical prints\\n- Four-way-stretch and chlorine-resistant fabric\\n- UPF 50+ rated fabric for high sun protection\\n- Crossover no-slip straps for a secure fit\\n- Fully lined bottom for maximum coverage\\n- Machine washable and line dry for best results\"},\n",
       " {'query': 'What are the main fabric components of the Refresh Swimwear, V-Neck Tankini Contrasts?',\n",
       "  'answer': 'The main fabric components of the Refresh Swimwear, V-Neck Tankini Contrasts are 82% recycled nylon with 18% Lycra® spandex for the body, and 90% recycled nylon with 10% Lycra® spandex for the lining.',\n",
       "  'result': 'The main fabric components of the Refresh Swimwear, V-Neck Tankini Contrasts are:\\n- Body: 82% recycled nylon, 18% Lycra® spandex\\n- Lining: 90% recycled nylon, 10% Lycra® spandex'},\n",
       " {'query': 'What type of technology is used in the EcoFlex 3L Storm Pants to enhance breathability?',\n",
       "  'answer': 'The EcoFlex 3L Storm Pants utilize TEK O2 technology to provide enhanced breathability.',\n",
       "  'result': 'The EcoFlex 3L Storm Pants use TEK O2 technology to enhance breathability.'}]"
      ]
     },
     "execution_count": 89,
     "metadata": {},
     "output_type": "execute_result"
    }
   ],
   "source": [
    "predictions"
   ]
  },
  {
   "cell_type": "code",
   "execution_count": 90,
   "id": "a2a64986",
   "metadata": {},
   "outputs": [],
   "source": [
    "from langchain.evaluation.qa import QAEvalChain"
   ]
  },
  {
   "cell_type": "code",
   "execution_count": 91,
   "id": "7759d3bd",
   "metadata": {},
   "outputs": [],
   "source": [
    "llm = ChatOpenAI(temperature=0.0, model=llm_model)\n",
    "eval_chain = QAEvalChain.from_llm(llm)"
   ]
  },
  {
   "cell_type": "code",
   "execution_count": 93,
   "id": "a3bccfdd",
   "metadata": {},
   "outputs": [
    {
     "data": {
      "text/plain": [
       "[{'results': 'CORRECT'},\n",
       " {'results': 'CORRECT'},\n",
       " {'results': 'CORRECT'},\n",
       " {'results': 'CORRECT'},\n",
       " {'results': 'CORRECT'},\n",
       " {'results': 'CORRECT'},\n",
       " {'results': 'CORRECT'}]"
      ]
     },
     "execution_count": 93,
     "metadata": {},
     "output_type": "execute_result"
    }
   ],
   "source": [
    "graded_output = eval_chain.evaluate(examples, predictions)\n",
    "graded_output"
   ]
  },
  {
   "cell_type": "code",
   "execution_count": 95,
   "id": "5aa539df",
   "metadata": {},
   "outputs": [
    {
     "name": "stdout",
     "output_type": "stream",
     "text": [
      "Example 0:\n",
      "Question: Is the Tech Quarter-Zip Pullover a good choice for active lifestyle?\n",
      "Real Answer: Yes\n",
      "Predicted Answer: Yes, the Tech Quarter-Zip Pullover is a good choice for an active lifestyle. It is moisture-wicking, quick-drying, comfortable, and stretchy, making it suitable for various activities. Additionally, it has reflective hits for enhanced visibility in low-light conditions.\n",
      "Predicted Grade: CORRECT\n",
      "\n",
      "Example 1:\n",
      "Question: What makes the Tech Quarter-Zip Pulliover feel greate against the skin?\n",
      "Real Answer: It features a flat-faced fleece fabric that is brushed on the inside.\n",
      "Predicted Answer: The Tech Quarter-Zip Pullover feels great against the skin because it features a flat-faced fleece fabric that is brushed on the inside.\n",
      "Predicted Grade: CORRECT\n",
      "\n",
      "Example 2:\n",
      "Question: According to the document, what material are the Women's Campside Oxfords made of for a broken-in feel and look?\n",
      "Real Answer: The Women's Campside Oxfords are made of soft canvas material for a broken-in feel and look.\n",
      "Predicted Answer: The Women's Campside Oxfords are made of soft canvas material for a broken-in feel and look.\n",
      "Predicted Grade: CORRECT\n",
      "\n",
      "Example 3:\n",
      "Question: What are the dimensions of the small and medium sizes for the Recycled Waterhog Dog Mat, Chevron Weave?\n",
      "Real Answer: The dimensions of the small size is 18\" x 28\" and the dimensions of the medium size is 22.5\" x 34.5\".\n",
      "Predicted Answer: The dimensions for the small size of the Recycled Waterhog Dog Mat, Chevron Weave are 18\" x 28\", and for the medium size, they are 22.5\" x 34.5\".\n",
      "Predicted Grade: CORRECT\n",
      "\n",
      "Example 4:\n",
      "Question: What are some key features of the Infant and Toddler Girls' Coastal Chill Swimsuit, Two-Piece as described in the document?\n",
      "Real Answer: Some key features of the swimsuit include bright colors, ruffles, exclusive whimsical prints, four-way-stretch and chlorine-resistant fabric, UPF 50+ rated fabric for highest sun protection, crossover no-slip straps, fully lined bottom, secure fit, and machine wash and line dry for best results.\n",
      "Predicted Answer: Some key features of the Infant and Toddler Girls' Coastal Chill Swimsuit, Two-Piece are:\n",
      "- Bright colors, ruffles, and exclusive whimsical prints\n",
      "- Four-way-stretch and chlorine-resistant fabric\n",
      "- UPF 50+ rated fabric for high sun protection\n",
      "- Crossover no-slip straps for a secure fit\n",
      "- Fully lined bottom for maximum coverage\n",
      "- Machine washable and line dry for best results\n",
      "Predicted Grade: CORRECT\n",
      "\n",
      "Example 5:\n",
      "Question: What are the main fabric components of the Refresh Swimwear, V-Neck Tankini Contrasts?\n",
      "Real Answer: The main fabric components of the Refresh Swimwear, V-Neck Tankini Contrasts are 82% recycled nylon with 18% Lycra® spandex for the body, and 90% recycled nylon with 10% Lycra® spandex for the lining.\n",
      "Predicted Answer: The main fabric components of the Refresh Swimwear, V-Neck Tankini Contrasts are:\n",
      "- Body: 82% recycled nylon, 18% Lycra® spandex\n",
      "- Lining: 90% recycled nylon, 10% Lycra® spandex\n",
      "Predicted Grade: CORRECT\n",
      "\n",
      "Example 6:\n",
      "Question: What type of technology is used in the EcoFlex 3L Storm Pants to enhance breathability?\n",
      "Real Answer: The EcoFlex 3L Storm Pants utilize TEK O2 technology to provide enhanced breathability.\n",
      "Predicted Answer: The EcoFlex 3L Storm Pants use TEK O2 technology to enhance breathability.\n",
      "Predicted Grade: CORRECT\n",
      "\n"
     ]
    }
   ],
   "source": [
    "for i, eg in enumerate(examples):\n",
    "    print(f\"Example {i}:\")\n",
    "    print(f\"Question: {predictions[i]['query']}\")\n",
    "    print(f\"Real Answer: {predictions[i]['answer']}\")\n",
    "    print(f\"Predicted Answer: {predictions[i]['result']}\")\n",
    "    print(f\"Predicted Grade: {graded_output[i]['results']}\")\n",
    "    print()"
   ]
  }
 ],
 "metadata": {
  "kernelspec": {
   "display_name": "fun",
   "language": "python",
   "name": "python3"
  },
  "language_info": {
   "codemirror_mode": {
    "name": "ipython",
    "version": 3
   },
   "file_extension": ".py",
   "mimetype": "text/x-python",
   "name": "python",
   "nbconvert_exporter": "python",
   "pygments_lexer": "ipython3",
   "version": "3.9.19"
  }
 },
 "nbformat": 4,
 "nbformat_minor": 5
}
