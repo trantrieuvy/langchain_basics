{
 "cells": [
  {
   "cell_type": "code",
   "execution_count": 1,
   "id": "840adf79",
   "metadata": {},
   "outputs": [],
   "source": [
    "import os\n",
    "from dotenv import load_dotenv, find_dotenv\n",
    "_ = load_dotenv(find_dotenv())\n",
    "import warnings\n",
    "warnings.filterwarnings(\"ignore\")"
   ]
  },
  {
   "cell_type": "code",
   "execution_count": 2,
   "id": "58f97cf6",
   "metadata": {},
   "outputs": [],
   "source": [
    "# account for deprecation of LLM model\n",
    "import datetime\n",
    "# Get the current date\n",
    "current_date = datetime.datetime.now().date()\n",
    "\n",
    "# Define the date after which the model should be set to \"gpt-3.5-turbo\"\n",
    "target_date = datetime.date(2024, 6, 12)\n",
    "\n",
    "# Set the model variable based on the current date\n",
    "if current_date > target_date:\n",
    "    llm_model = \"gpt-3.5-turbo\"\n",
    "else:\n",
    "    llm_model = \"gpt-3.5-turbo-0301\""
   ]
  },
  {
   "cell_type": "markdown",
   "id": "92c13213",
   "metadata": {},
   "source": [
    "### Built-in LangChain tools"
   ]
  },
  {
   "cell_type": "code",
   "execution_count": 3,
   "id": "4a3d441f",
   "metadata": {},
   "outputs": [],
   "source": [
    "#!pip install -U wikipedia"
   ]
  },
  {
   "cell_type": "code",
   "execution_count": 4,
   "id": "c53dbba2",
   "metadata": {},
   "outputs": [],
   "source": [
    "from langchain_experimental.agents.agent_toolkits import create_python_agent\n",
    "from langchain.agents import load_tools, initialize_agent\n",
    "from langchain.agents import AgentType\n",
    "from langchain_experimental.tools.python.tool import PythonREPLTool\n",
    "from langchain_experimental.tools.python.tool import PythonREPL\n",
    "from langchain_openai import ChatOpenAI"
   ]
  },
  {
   "cell_type": "code",
   "execution_count": 5,
   "id": "bc2b0bab",
   "metadata": {},
   "outputs": [],
   "source": [
    "llm = ChatOpenAI(temperature=0, model=llm_model)"
   ]
  },
  {
   "cell_type": "code",
   "execution_count": 6,
   "id": "167d1786",
   "metadata": {},
   "outputs": [],
   "source": [
    "tools = load_tools([\"wikipedia\", \"llm-math\"], llm=llm)"
   ]
  },
  {
   "cell_type": "code",
   "execution_count": 7,
   "id": "bd93e026",
   "metadata": {},
   "outputs": [
    {
     "name": "stderr",
     "output_type": "stream",
     "text": [
      "/tmp/ipykernel_29510/3609475951.py:1: LangChainDeprecationWarning: LangChain agents will continue to be supported, but it is recommended for new use cases to be built with LangGraph. LangGraph offers a more flexible and full-featured framework for building agents, including support for tool-calling, persistence of state, and human-in-the-loop workflows. For details, refer to the `LangGraph documentation <https://langchain-ai.github.io/langgraph/>`_ as well as guides for `Migrating from AgentExecutor <https://python.langchain.com/docs/how_to/migrate_agent/>`_ and LangGraph's `Pre-built ReAct agent <https://langchain-ai.github.io/langgraph/how-tos/create-react-agent/>`_.\n",
      "  agent = initialize_agent(\n"
     ]
    }
   ],
   "source": [
    "agent = initialize_agent(\n",
    "    tools,\n",
    "    llm,\n",
    "    agent=AgentType.ZERO_SHOT_REACT_DESCRIPTION,\n",
    "    handle_parsing_errors=True,\n",
    "    verbose=True\n",
    ")"
   ]
  },
  {
   "cell_type": "code",
   "execution_count": 8,
   "id": "82788503",
   "metadata": {},
   "outputs": [
    {
     "name": "stderr",
     "output_type": "stream",
     "text": [
      "/tmp/ipykernel_29510/398535690.py:1: LangChainDeprecationWarning: The method `Chain.__call__` was deprecated in langchain 0.1.0 and will be removed in 1.0. Use :meth:`~invoke` instead.\n",
      "  agent(\"What is 2 to the power of 10?\")\n"
     ]
    },
    {
     "name": "stdout",
     "output_type": "stream",
     "text": [
      "\n",
      "\n",
      "\u001b[1m> Entering new AgentExecutor chain...\u001b[0m\n",
      "\u001b[32;1m\u001b[1;3mI need to calculate 2 to the power of 10.\n",
      "Action: Calculator\n",
      "Action Input: 2 ** 10\u001b[0m\n",
      "Observation: \u001b[33;1m\u001b[1;3mAnswer: 1024\u001b[0m\n",
      "Thought:\u001b[32;1m\u001b[1;3mI now know the final answer\n",
      "Final Answer: 1024\u001b[0m\n",
      "\n",
      "\u001b[1m> Finished chain.\u001b[0m\n"
     ]
    },
    {
     "data": {
      "text/plain": [
       "{'input': 'What is 2 to the power of 10?', 'output': '1024'}"
      ]
     },
     "execution_count": 8,
     "metadata": {},
     "output_type": "execute_result"
    }
   ],
   "source": [
    "agent(\"What is 2 to the power of 10?\")"
   ]
  },
  {
   "cell_type": "markdown",
   "id": "a481315e",
   "metadata": {},
   "source": [
    "### Wikipedia example"
   ]
  },
  {
   "cell_type": "code",
   "execution_count": 9,
   "id": "0638f8a7",
   "metadata": {},
   "outputs": [
    {
     "name": "stdout",
     "output_type": "stream",
     "text": [
      "\n",
      "\n",
      "\u001b[1m> Entering new AgentExecutor chain...\u001b[0m\n",
      "\u001b[32;1m\u001b[1;3mI should use Wikipedia to find out which studio albums Radiohead is famous for.\n",
      "Action: wikipedia\n",
      "Action Input: Radiohead discography\u001b[0m\n",
      "Observation: \u001b[36;1m\u001b[1;3mPage: Radiohead discography\n",
      "Summary: The English rock band Radiohead have released nine studio albums, one live album, five compilation albums, one remix album, nine video albums, seven EPs, 32 singles, and 48 music videos. Their debut album, Pablo Honey, released in February 1993, reached number 22 in the UK, receiving platinum certifications in the UK and US. Their debut single, \"Creep\", remains their most successful, entering the top 10 in several countries. Their second album, The Bends, released in March 1995, reached number four in the UK and is certified triple platinum.\n",
      "Radiohead's third album, OK Computer, was released in May 1997. It remains their most successful album, reaching number one in the UK and Ireland and the top 10 in several other countries. It was certified triple platinum and produced the UK top-ten singles \"Paranoid Android\", \"Karma Police\" and \"No Surprises\". Kid A followed in October 2000, topping the charts in the UK and becoming first number-one Radiohead album on the US Billboard 200. Amnesiac was released in May 2001, topping the UK charts and producing the singles \"Pyramid Song\" and \"Knives Out\". Hail to the Thief was released in June 2003, ending Radiohead's contract with EMI. It was Radiohead's fourth consecutive UK number-one album and was certified platinum.\n",
      "Radiohead released their seventh album, In Rainbows, in October 2007 as a download for which customers could set their own price; a conventional retail release followed. It sold more than three million copies in one year. \"Nude\" and \"Jigsaw Falling Into Place\" were released as singles; \"Nude\" was Radiohead's first top-40 hit on the US Billboard Hot 100 since \"Creep\". Radiohead released their eighth album, The King of Limbs, in February 2011. It ended their streak of number-one albums in the UK, reaching number seven, and is the only Radiohead album not to be certified gold in the US. In April 2016, following the purchase of EMI by Universal Music, Radiohead's back catalogue transferred to XL Recordings, who had released the retail editions of In Rainbows and The King of Limbs. Radiohead released their ninth album, A Moon Shaped Pool, in May 2016, backed by the singles \"Burn the Witch\" and \"Daydreaming\".\n",
      "In June 2017, Radiohead released a 20th-anniversary OK Computer reissue, OK Computer OKNOTOK 1997 2017, including unreleased tracks, two of which were released as download singles: \"I Promise\" and \"Man of War\". In June 2019, several hours of recordings from the OK Computer period leaked online; in response, Radiohead made them available to purchase online as MiniDiscs [Hacked], with all proceeds to the environmentalist group Extinction Rebellion. Kid A Mnesia, an anniversary reissue compiling Kid A, Amnesiac and previously unreleased material, was released in November 2021, promoted with the singles \"If You Say the Word\" and \"Follow Me Around\".\n",
      "\n",
      "\n",
      "\n",
      "Page: Radiohead\n",
      "Summary: Radiohead are an English rock band formed in Abingdon, Oxfordshire, in 1985. They comprise Thom Yorke (vocals, guitar, piano, keyboards); brothers Jonny Greenwood (guitar, keyboards, other instruments) and Colin Greenwood (bass); Ed O'Brien (guitar, backing vocals); and Philip Selway (drums, percussion). They have worked with the producer Nigel Godrich and the cover artist Stanley Donwood since 1994. Radiohead's experimental approach is credited with advancing the sound of alternative rock.\n",
      "Radiohead signed to EMI in 1991 and released their debut album, Pablo Honey, in 1993. Their debut single, \"Creep\", was a worldwide hit, and their popularity and critical standing rose with The Bends in 1995. Their third album, OK Computer (1997), is acclaimed as a landmark record and one of the greatest albums in popular music, with complex production and themes of modern alienation. Their fourth album, Kid A (2000), marked a dramatic change in style, incorporating influences from electronic music, jazz, classical music and krautrock. Though Kid A divided listeners, it was later named\u001b[0m\n",
      "Thought:\u001b[32;1m\u001b[1;3mI should continue looking for the studio albums Radiohead is famous for.\n",
      "Action: wikipedia\n",
      "Action Input: Radiohead discography\u001b[0m\n",
      "Observation: \u001b[36;1m\u001b[1;3mPage: Radiohead discography\n",
      "Summary: The English rock band Radiohead have released nine studio albums, one live album, five compilation albums, one remix album, nine video albums, seven EPs, 32 singles, and 48 music videos. Their debut album, Pablo Honey, released in February 1993, reached number 22 in the UK, receiving platinum certifications in the UK and US. Their debut single, \"Creep\", remains their most successful, entering the top 10 in several countries. Their second album, The Bends, released in March 1995, reached number four in the UK and is certified triple platinum.\n",
      "Radiohead's third album, OK Computer, was released in May 1997. It remains their most successful album, reaching number one in the UK and Ireland and the top 10 in several other countries. It was certified triple platinum and produced the UK top-ten singles \"Paranoid Android\", \"Karma Police\" and \"No Surprises\". Kid A followed in October 2000, topping the charts in the UK and becoming first number-one Radiohead album on the US Billboard 200. Amnesiac was released in May 2001, topping the UK charts and producing the singles \"Pyramid Song\" and \"Knives Out\". Hail to the Thief was released in June 2003, ending Radiohead's contract with EMI. It was Radiohead's fourth consecutive UK number-one album and was certified platinum.\n",
      "Radiohead released their seventh album, In Rainbows, in October 2007 as a download for which customers could set their own price; a conventional retail release followed. It sold more than three million copies in one year. \"Nude\" and \"Jigsaw Falling Into Place\" were released as singles; \"Nude\" was Radiohead's first top-40 hit on the US Billboard Hot 100 since \"Creep\". Radiohead released their eighth album, The King of Limbs, in February 2011. It ended their streak of number-one albums in the UK, reaching number seven, and is the only Radiohead album not to be certified gold in the US. In April 2016, following the purchase of EMI by Universal Music, Radiohead's back catalogue transferred to XL Recordings, who had released the retail editions of In Rainbows and The King of Limbs. Radiohead released their ninth album, A Moon Shaped Pool, in May 2016, backed by the singles \"Burn the Witch\" and \"Daydreaming\".\n",
      "In June 2017, Radiohead released a 20th-anniversary OK Computer reissue, OK Computer OKNOTOK 1997 2017, including unreleased tracks, two of which were released as download singles: \"I Promise\" and \"Man of War\". In June 2019, several hours of recordings from the OK Computer period leaked online; in response, Radiohead made them available to purchase online as MiniDiscs [Hacked], with all proceeds to the environmentalist group Extinction Rebellion. Kid A Mnesia, an anniversary reissue compiling Kid A, Amnesiac and previously unreleased material, was released in November 2021, promoted with the singles \"If You Say the Word\" and \"Follow Me Around\".\n",
      "\n",
      "\n",
      "\n",
      "Page: Radiohead\n",
      "Summary: Radiohead are an English rock band formed in Abingdon, Oxfordshire, in 1985. They comprise Thom Yorke (vocals, guitar, piano, keyboards); brothers Jonny Greenwood (guitar, keyboards, other instruments) and Colin Greenwood (bass); Ed O'Brien (guitar, backing vocals); and Philip Selway (drums, percussion). They have worked with the producer Nigel Godrich and the cover artist Stanley Donwood since 1994. Radiohead's experimental approach is credited with advancing the sound of alternative rock.\n",
      "Radiohead signed to EMI in 1991 and released their debut album, Pablo Honey, in 1993. Their debut single, \"Creep\", was a worldwide hit, and their popularity and critical standing rose with The Bends in 1995. Their third album, OK Computer (1997), is acclaimed as a landmark record and one of the greatest albums in popular music, with complex production and themes of modern alienation. Their fourth album, Kid A (2000), marked a dramatic change in style, incorporating influences from electronic music, jazz, classical music and krautrock. Though Kid A divided listeners, it was later named\u001b[0m\n",
      "Thought:\u001b[32;1m\u001b[1;3mI now know the studio albums Radiohead is famous for.\n",
      "Final Answer: Radiohead is famous for the following studio albums: Pablo Honey, The Bends, OK Computer, Kid A, Amnesiac, Hail to the Thief, In Rainbows, The King of Limbs, and A Moon Shaped Pool.\u001b[0m\n",
      "\n",
      "\u001b[1m> Finished chain.\u001b[0m\n"
     ]
    }
   ],
   "source": [
    "question = \"Radiohead is a band famous for which studio albums?\"\n",
    "result = agent(question)"
   ]
  },
  {
   "cell_type": "markdown",
   "id": "a4f39815",
   "metadata": {},
   "source": [
    "### Python Agent"
   ]
  },
  {
   "cell_type": "code",
   "execution_count": 10,
   "id": "020930ca",
   "metadata": {},
   "outputs": [],
   "source": [
    "agent = create_python_agent(\n",
    "    llm, \n",
    "    tool=PythonREPLTool(),\n",
    "    verbose=True\n",
    ")"
   ]
  },
  {
   "cell_type": "code",
   "execution_count": 11,
   "id": "65324fb8",
   "metadata": {},
   "outputs": [],
   "source": [
    "customer_list = [[\"Thomas\", \"Cat\"],\n",
    "                [\"John\", \"Dog\"],\n",
    "                [\"Michael\", \"Fish\"],\n",
    "                [\"Sarah\", \"Bird\"],\n",
    "                [\"Jessica\", \"Lizard\"],\n",
    "                [\"Daniel\", \"Turtle\"],\n",
    "                [\"Emily\", \"Hamster\"],\n",
    "                [\"Matthew\", \"Frog\"],\n",
    "                ]"
   ]
  },
  {
   "cell_type": "code",
   "execution_count": 12,
   "id": "97fd39f3",
   "metadata": {},
   "outputs": [
    {
     "name": "stdout",
     "output_type": "stream",
     "text": [
      "\n",
      "\n",
      "\u001b[1m> Entering new AgentExecutor chain...\u001b[0m\n"
     ]
    },
    {
     "name": "stderr",
     "output_type": "stream",
     "text": [
      "/tmp/ipykernel_29510/2161092319.py:1: LangChainDeprecationWarning: The method `Chain.run` was deprecated in langchain 0.1.0 and will be removed in 1.0. Use :meth:`~invoke` instead.\n",
      "  agent.run(f\"\"\"Sort these customers by \\\n",
      "Python REPL can execute arbitrary code. Use with caution.\n"
     ]
    },
    {
     "name": "stdout",
     "output_type": "stream",
     "text": [
      "\u001b[32;1m\u001b[1;3mWe can use the `sorted()` function in Python to sort the list of customers based on their last name and then first name.\n",
      "Action: Python_REPL\n",
      "Action Input: customers = [['Thomas', 'Cat'], ['John', 'Dog'], ['Michael', 'Fish'], ['Sarah', 'Bird'], ['Jessica', 'Lizard'], ['Daniel', 'Turtle'], ['Emily', 'Hamster'], ['Matthew', 'Frog']]\n",
      "sorted_customers = sorted(customers, key=lambda x: (x[1], x[0]))\n",
      "print(sorted_customers)\u001b[0m\n",
      "Observation: \u001b[36;1m\u001b[1;3m[['Sarah', 'Bird'], ['Thomas', 'Cat'], ['John', 'Dog'], ['Michael', 'Fish'], ['Matthew', 'Frog'], ['Emily', 'Hamster'], ['Jessica', 'Lizard'], ['Daniel', 'Turtle']]\n",
      "\u001b[0m\n",
      "Thought:\u001b[32;1m\u001b[1;3mThe customers are now sorted by last name and then first name.\n",
      "Final Answer: [['Sarah', 'Bird'], ['Thomas', 'Cat'], ['John', 'Dog'], ['Michael', 'Fish'], ['Matthew', 'Frog'], ['Emily', 'Hamster'], ['Jessica', 'Lizard'], ['Daniel', 'Turtle']]\u001b[0m\n",
      "\n",
      "\u001b[1m> Finished chain.\u001b[0m\n"
     ]
    },
    {
     "data": {
      "text/plain": [
       "\"[['Sarah', 'Bird'], ['Thomas', 'Cat'], ['John', 'Dog'], ['Michael', 'Fish'], ['Matthew', 'Frog'], ['Emily', 'Hamster'], ['Jessica', 'Lizard'], ['Daniel', 'Turtle']]\""
      ]
     },
     "execution_count": 12,
     "metadata": {},
     "output_type": "execute_result"
    }
   ],
   "source": [
    "agent.run(f\"\"\"Sort these customers by \\\n",
    "last name and then first name \\\n",
    "and print the output: {customer_list}\"\"\") "
   ]
  },
  {
   "cell_type": "markdown",
   "id": "25040f23",
   "metadata": {},
   "source": [
    "#### View detailed outputs of the chains"
   ]
  },
  {
   "cell_type": "code",
   "execution_count": 13,
   "id": "7cf30153",
   "metadata": {},
   "outputs": [],
   "source": [
    "from langchain.agents import tool\n",
    "from datetime import date"
   ]
  },
  {
   "cell_type": "code",
   "execution_count": 14,
   "id": "168aa95f",
   "metadata": {},
   "outputs": [],
   "source": [
    "@tool\n",
    "def time(text: str) -> str:\n",
    "    \"\"\"Returns todays date, use this for any \\\n",
    "    questions related to knowing todays date. \\\n",
    "    The input should always be an empty string, \\\n",
    "    and this function will always return todays \\\n",
    "    date - any date mathmatics should occur \\\n",
    "    outside this function.\"\"\"\n",
    "    return str(date.today())"
   ]
  },
  {
   "cell_type": "code",
   "execution_count": 15,
   "id": "c2c9aa1a",
   "metadata": {},
   "outputs": [],
   "source": [
    "agent = initialize_agent(\n",
    "    tools + [time],\n",
    "    llm,\n",
    "    agent=AgentType.ZERO_SHOT_REACT_DESCRIPTION,\n",
    "    handle_parsing_errors=True,\n",
    "    verbose=True\n",
    "    )"
   ]
  },
  {
   "cell_type": "code",
   "execution_count": 16,
   "id": "65c5f00d",
   "metadata": {},
   "outputs": [
    {
     "name": "stdout",
     "output_type": "stream",
     "text": [
      "\n",
      "\n",
      "\u001b[1m> Entering new AgentExecutor chain...\u001b[0m\n",
      "\u001b[32;1m\u001b[1;3mI should use the time function to get today's date.\n",
      "Action: time\n",
      "Action Input: \"\"\u001b[0m\n",
      "Observation: \u001b[38;5;200m\u001b[1;3m2025-04-20\u001b[0m\n",
      "Thought:\u001b[32;1m\u001b[1;3mI have the current date.\n",
      "Final Answer: The date today is 2025-04-20.\u001b[0m\n",
      "\n",
      "\u001b[1m> Finished chain.\u001b[0m\n"
     ]
    }
   ],
   "source": [
    "try:\n",
    "    result = agent(\"What is the date today?\")\n",
    "except:\n",
    "    print(\"Exception on external access\")"
   ]
  },
  {
   "cell_type": "code",
   "execution_count": 17,
   "id": "e3c7d3ff",
   "metadata": {},
   "outputs": [],
   "source": [
    "@tool\n",
    "def combine_name(text: str) -> str:\n",
    "    \"\"\"Returns a string with the first and last name of all persons in the customer list\"\"\"\n",
    "    return \", \".join([f\"{x[0]} {x[1]}\" for x in customer_list])"
   ]
  },
  {
   "cell_type": "code",
   "execution_count": 18,
   "id": "10cae935",
   "metadata": {},
   "outputs": [],
   "source": [
    "agent_name= initialize_agent(\n",
    "    tools + [combine_name],\n",
    "    llm,\n",
    "    agent=AgentType.ZERO_SHOT_REACT_DESCRIPTION,\n",
    "    handle_parsing_errors=True,\n",
    "    verbose=True\n",
    ")"
   ]
  },
  {
   "cell_type": "code",
   "execution_count": 19,
   "id": "af2d304d",
   "metadata": {},
   "outputs": [
    {
     "name": "stdout",
     "output_type": "stream",
     "text": [
      "\n",
      "\n",
      "\u001b[1m> Entering new AgentExecutor chain...\u001b[0m\n",
      "\u001b[32;1m\u001b[1;3mI should use the combine_name function to get the names of the customers.\n",
      "Action: combine_name\n",
      "Action Input: customer list\u001b[0m\n",
      "Observation: \u001b[38;5;200m\u001b[1;3mThomas Cat, John Dog, Michael Fish, Sarah Bird, Jessica Lizard, Daniel Turtle, Emily Hamster, Matthew Frog\u001b[0m\n",
      "Thought:\u001b[32;1m\u001b[1;3mI now know the names of the customers in the customer list.\n",
      "Final Answer: The names of the customers in the customer list are Thomas Cat, John Dog, Michael Fish, Sarah Bird, Jessica Lizard, Daniel Turtle, Emily Hamster, Matthew Frog.\u001b[0m\n",
      "\n",
      "\u001b[1m> Finished chain.\u001b[0m\n"
     ]
    }
   ],
   "source": [
    "try:\n",
    "    result = agent_name(\"What is the name of the customers in the customer list?\")\n",
    "except:\n",
    "    print(\"Exception on external access\")"
   ]
  }
 ],
 "metadata": {
  "kernelspec": {
   "display_name": "fun",
   "language": "python",
   "name": "python3"
  },
  "language_info": {
   "codemirror_mode": {
    "name": "ipython",
    "version": 3
   },
   "file_extension": ".py",
   "mimetype": "text/x-python",
   "name": "python",
   "nbconvert_exporter": "python",
   "pygments_lexer": "ipython3",
   "version": "3.10.16"
  }
 },
 "nbformat": 4,
 "nbformat_minor": 5
}
